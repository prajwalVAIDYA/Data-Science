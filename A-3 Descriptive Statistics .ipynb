{
 "cells": [
  {
   "cell_type": "markdown",
   "id": "92200d9d",
   "metadata": {},
   "source": [
    "# Descriptive Statistics - Measures of Central Tendency and variability\n",
    "* Perform the following operations on any open source dataset (e.g., data.csv)\n",
    "\n",
    "Provide summary statistics (mean, median, minimum, maximum, standard deviation) for a dataset (age, income etc.) with numeric variables grouped by one of the qualitative (categorical) variable. For example, if your categorical variable is age groups and quantitative variable is income, then provide summary statistics of income grouped by the age groups. Create a list that contains a numeric value for each response to the categorical variable. \n"
   ]
  },
  {
   "cell_type": "code",
   "execution_count": 1,
   "id": "6bc6de8b",
   "metadata": {},
   "outputs": [],
   "source": [
    "import random\n",
    "from collections import Counter\n",
    "import pandas as pd\n",
    "import numpy as np\n",
    "import matplotlib.pyplot as plt\n",
    "import seaborn as sns\n",
    "from warnings import filterwarnings\n",
    "filterwarnings('ignore')"
   ]
  },
  {
   "cell_type": "code",
   "execution_count": 5,
   "id": "5e9e0d35",
   "metadata": {},
   "outputs": [],
   "source": [
    "gen = ['Male', 'Female']\n",
    "loc = ['Chennai','Kochi','Kolkata','Mumbai','Banglore','Delhi']\n",
    "\n",
    "data={'Age' : [random.randint(18,45) for _ in range(500)],\n",
    "'Monthly_Income' : [random.randint(25000, 100000) for _ in range(500)],\n",
    "'Gender' : [random.choice(gen) for _ in range(500)],\n",
    "'Location' : [random.choice(loc) for _ in range(500)]}"
   ]
  },
  {
   "cell_type": "code",
   "execution_count": 10,
   "id": "1c72122c",
   "metadata": {},
   "outputs": [
    {
     "data": {
      "text/html": [
       "<div>\n",
       "<style scoped>\n",
       "    .dataframe tbody tr th:only-of-type {\n",
       "        vertical-align: middle;\n",
       "    }\n",
       "\n",
       "    .dataframe tbody tr th {\n",
       "        vertical-align: top;\n",
       "    }\n",
       "\n",
       "    .dataframe thead th {\n",
       "        text-align: right;\n",
       "    }\n",
       "</style>\n",
       "<table border=\"1\" class=\"dataframe\">\n",
       "  <thead>\n",
       "    <tr style=\"text-align: right;\">\n",
       "      <th></th>\n",
       "      <th>Age</th>\n",
       "      <th>Monthly_Income</th>\n",
       "      <th>Gender</th>\n",
       "      <th>Location</th>\n",
       "    </tr>\n",
       "  </thead>\n",
       "  <tbody>\n",
       "    <tr>\n",
       "      <th>0</th>\n",
       "      <td>32</td>\n",
       "      <td>63470</td>\n",
       "      <td>Female</td>\n",
       "      <td>Banglore</td>\n",
       "    </tr>\n",
       "    <tr>\n",
       "      <th>1</th>\n",
       "      <td>22</td>\n",
       "      <td>81088</td>\n",
       "      <td>Female</td>\n",
       "      <td>Delhi</td>\n",
       "    </tr>\n",
       "    <tr>\n",
       "      <th>2</th>\n",
       "      <td>31</td>\n",
       "      <td>61956</td>\n",
       "      <td>Female</td>\n",
       "      <td>Delhi</td>\n",
       "    </tr>\n",
       "    <tr>\n",
       "      <th>3</th>\n",
       "      <td>35</td>\n",
       "      <td>98865</td>\n",
       "      <td>Male</td>\n",
       "      <td>Delhi</td>\n",
       "    </tr>\n",
       "    <tr>\n",
       "      <th>4</th>\n",
       "      <td>37</td>\n",
       "      <td>73229</td>\n",
       "      <td>Male</td>\n",
       "      <td>Banglore</td>\n",
       "    </tr>\n",
       "    <tr>\n",
       "      <th>...</th>\n",
       "      <td>...</td>\n",
       "      <td>...</td>\n",
       "      <td>...</td>\n",
       "      <td>...</td>\n",
       "    </tr>\n",
       "    <tr>\n",
       "      <th>495</th>\n",
       "      <td>38</td>\n",
       "      <td>62248</td>\n",
       "      <td>Female</td>\n",
       "      <td>Banglore</td>\n",
       "    </tr>\n",
       "    <tr>\n",
       "      <th>496</th>\n",
       "      <td>19</td>\n",
       "      <td>58710</td>\n",
       "      <td>Male</td>\n",
       "      <td>Delhi</td>\n",
       "    </tr>\n",
       "    <tr>\n",
       "      <th>497</th>\n",
       "      <td>20</td>\n",
       "      <td>92344</td>\n",
       "      <td>Female</td>\n",
       "      <td>Kochi</td>\n",
       "    </tr>\n",
       "    <tr>\n",
       "      <th>498</th>\n",
       "      <td>21</td>\n",
       "      <td>96905</td>\n",
       "      <td>Female</td>\n",
       "      <td>Mumbai</td>\n",
       "    </tr>\n",
       "    <tr>\n",
       "      <th>499</th>\n",
       "      <td>23</td>\n",
       "      <td>41945</td>\n",
       "      <td>Female</td>\n",
       "      <td>Kolkata</td>\n",
       "    </tr>\n",
       "  </tbody>\n",
       "</table>\n",
       "<p>500 rows × 4 columns</p>\n",
       "</div>"
      ],
      "text/plain": [
       "     Age  Monthly_Income  Gender  Location\n",
       "0     32           63470  Female  Banglore\n",
       "1     22           81088  Female     Delhi\n",
       "2     31           61956  Female     Delhi\n",
       "3     35           98865    Male     Delhi\n",
       "4     37           73229    Male  Banglore\n",
       "..   ...             ...     ...       ...\n",
       "495   38           62248  Female  Banglore\n",
       "496   19           58710    Male     Delhi\n",
       "497   20           92344  Female     Kochi\n",
       "498   21           96905  Female    Mumbai\n",
       "499   23           41945  Female   Kolkata\n",
       "\n",
       "[500 rows x 4 columns]"
      ]
     },
     "execution_count": 10,
     "metadata": {},
     "output_type": "execute_result"
    }
   ],
   "source": [
    "df = pd.DataFrame(data)\n",
    "df"
   ]
  },
  {
   "cell_type": "code",
   "execution_count": 11,
   "id": "b32c2014",
   "metadata": {},
   "outputs": [
    {
     "name": "stdout",
     "output_type": "stream",
     "text": [
      "<class 'pandas.core.frame.DataFrame'>\n",
      "RangeIndex: 500 entries, 0 to 499\n",
      "Data columns (total 4 columns):\n",
      " #   Column          Non-Null Count  Dtype \n",
      "---  ------          --------------  ----- \n",
      " 0   Age             500 non-null    int64 \n",
      " 1   Monthly_Income  500 non-null    int64 \n",
      " 2   Gender          500 non-null    object\n",
      " 3   Location        500 non-null    object\n",
      "dtypes: int64(2), object(2)\n",
      "memory usage: 15.8+ KB\n"
     ]
    }
   ],
   "source": [
    "df.info()"
   ]
  },
  {
   "cell_type": "code",
   "execution_count": 12,
   "id": "0b147610",
   "metadata": {},
   "outputs": [
    {
     "data": {
      "text/html": [
       "<div>\n",
       "<style scoped>\n",
       "    .dataframe tbody tr th:only-of-type {\n",
       "        vertical-align: middle;\n",
       "    }\n",
       "\n",
       "    .dataframe tbody tr th {\n",
       "        vertical-align: top;\n",
       "    }\n",
       "\n",
       "    .dataframe thead th {\n",
       "        text-align: right;\n",
       "    }\n",
       "</style>\n",
       "<table border=\"1\" class=\"dataframe\">\n",
       "  <thead>\n",
       "    <tr style=\"text-align: right;\">\n",
       "      <th></th>\n",
       "      <th>Age</th>\n",
       "      <th>Monthly_Income</th>\n",
       "    </tr>\n",
       "  </thead>\n",
       "  <tbody>\n",
       "    <tr>\n",
       "      <th>count</th>\n",
       "      <td>500.000000</td>\n",
       "      <td>500.000000</td>\n",
       "    </tr>\n",
       "    <tr>\n",
       "      <th>mean</th>\n",
       "      <td>31.174000</td>\n",
       "      <td>61960.060000</td>\n",
       "    </tr>\n",
       "    <tr>\n",
       "      <th>std</th>\n",
       "      <td>7.947203</td>\n",
       "      <td>21716.387614</td>\n",
       "    </tr>\n",
       "    <tr>\n",
       "      <th>min</th>\n",
       "      <td>18.000000</td>\n",
       "      <td>25111.000000</td>\n",
       "    </tr>\n",
       "    <tr>\n",
       "      <th>25%</th>\n",
       "      <td>24.000000</td>\n",
       "      <td>44456.250000</td>\n",
       "    </tr>\n",
       "    <tr>\n",
       "      <th>50%</th>\n",
       "      <td>31.000000</td>\n",
       "      <td>61296.500000</td>\n",
       "    </tr>\n",
       "    <tr>\n",
       "      <th>75%</th>\n",
       "      <td>38.000000</td>\n",
       "      <td>80501.250000</td>\n",
       "    </tr>\n",
       "    <tr>\n",
       "      <th>max</th>\n",
       "      <td>45.000000</td>\n",
       "      <td>99999.000000</td>\n",
       "    </tr>\n",
       "  </tbody>\n",
       "</table>\n",
       "</div>"
      ],
      "text/plain": [
       "              Age  Monthly_Income\n",
       "count  500.000000      500.000000\n",
       "mean    31.174000    61960.060000\n",
       "std      7.947203    21716.387614\n",
       "min     18.000000    25111.000000\n",
       "25%     24.000000    44456.250000\n",
       "50%     31.000000    61296.500000\n",
       "75%     38.000000    80501.250000\n",
       "max     45.000000    99999.000000"
      ]
     },
     "execution_count": 12,
     "metadata": {},
     "output_type": "execute_result"
    }
   ],
   "source": [
    "df.describe()"
   ]
  },
  {
   "cell_type": "code",
   "execution_count": 13,
   "id": "4da61b81",
   "metadata": {},
   "outputs": [
    {
     "data": {
      "text/plain": [
       "(500, 4)"
      ]
     },
     "execution_count": 13,
     "metadata": {},
     "output_type": "execute_result"
    }
   ],
   "source": [
    "df.shape"
   ]
  },
  {
   "cell_type": "code",
   "execution_count": 17,
   "id": "8f940055",
   "metadata": {},
   "outputs": [
    {
     "data": {
      "text/plain": [
       "23    25\n",
       "35    25\n",
       "38    24\n",
       "32    24\n",
       "20    23\n",
       "27    23\n",
       "28    21\n",
       "26    20\n",
       "22    19\n",
       "21    19\n",
       "42    19\n",
       "25    19\n",
       "41    19\n",
       "36    18\n",
       "44    18\n",
       "40    16\n",
       "30    16\n",
       "29    16\n",
       "34    15\n",
       "19    15\n",
       "18    15\n",
       "43    15\n",
       "37    15\n",
       "39    13\n",
       "31    13\n",
       "45    12\n",
       "33    12\n",
       "24    11\n",
       "Name: Age, dtype: int64"
      ]
     },
     "execution_count": 17,
     "metadata": {},
     "output_type": "execute_result"
    }
   ],
   "source": [
    "df['Age'].value_counts()"
   ]
  },
  {
   "cell_type": "code",
   "execution_count": 18,
   "id": "312b792e",
   "metadata": {},
   "outputs": [
    {
     "data": {
      "text/plain": [
       "Female    272\n",
       "Male      228\n",
       "Name: Gender, dtype: int64"
      ]
     },
     "execution_count": 18,
     "metadata": {},
     "output_type": "execute_result"
    }
   ],
   "source": [
    "df['Gender'].value_counts()"
   ]
  },
  {
   "cell_type": "code",
   "execution_count": 19,
   "id": "5d14a7dd",
   "metadata": {
    "scrolled": true
   },
   "outputs": [
    {
     "data": {
      "text/plain": [
       "Banglore    95\n",
       "Delhi       86\n",
       "Kochi       81\n",
       "Kolkata     81\n",
       "Mumbai      81\n",
       "Chennai     76\n",
       "Name: Location, dtype: int64"
      ]
     },
     "execution_count": 19,
     "metadata": {},
     "output_type": "execute_result"
    }
   ],
   "source": [
    "df['Location'].value_counts()"
   ]
  },
  {
   "cell_type": "code",
   "execution_count": 21,
   "id": "bb4fbf9f",
   "metadata": {},
   "outputs": [
    {
     "data": {
      "text/plain": [
       "0"
      ]
     },
     "execution_count": 21,
     "metadata": {},
     "output_type": "execute_result"
    }
   ],
   "source": [
    "df.duplicated().sum()"
   ]
  },
  {
   "cell_type": "code",
   "execution_count": 22,
   "id": "7e0a9927",
   "metadata": {},
   "outputs": [
    {
     "data": {
      "text/plain": [
       "Age                28\n",
       "Monthly_Income    500\n",
       "Gender              2\n",
       "Location            6\n",
       "dtype: int64"
      ]
     },
     "execution_count": 22,
     "metadata": {},
     "output_type": "execute_result"
    }
   ],
   "source": [
    "df.nunique()"
   ]
  },
  {
   "cell_type": "code",
   "execution_count": 24,
   "id": "ba36876b",
   "metadata": {},
   "outputs": [
    {
     "data": {
      "text/plain": [
       "Age               0\n",
       "Monthly_Income    0\n",
       "Gender            0\n",
       "Location          0\n",
       "dtype: int64"
      ]
     },
     "execution_count": 24,
     "metadata": {},
     "output_type": "execute_result"
    }
   ],
   "source": [
    "df.isnull().sum()"
   ]
  },
  {
   "cell_type": "code",
   "execution_count": 57,
   "id": "ca834c8f",
   "metadata": {},
   "outputs": [],
   "source": [
    "def calculate_all_state_values(df):\n",
    "  statData = {}\n",
    "  indexes = ['mean', 'median', 'variance', 'standard deviation', 'minimum', 'maximum', '25% percentile', '50% percentile', '75% percentile', \"count\"]\n",
    "  for column in df.columns:\n",
    "    try:\n",
    "      columnConvertedValues = pd.to_numeric(df[column])\n",
    "      mean = df[column].mean()\n",
    "      median = df[column].median()\n",
    "      var = df[column].var()\n",
    "      std = df[column].std()\n",
    "      min = df[column].min()\n",
    "      max = df[column].max()\n",
    "      percentile25 = np.percentile(df[column], 25)\n",
    "      percentile50 = np.percentile(df[column], 50)\n",
    "      percentile75 = np.percentile(df[column], 75)\n",
    "      count = df[column].count()\n",
    "      statData[column] = [mean, median, var, std, min, max, percentile25, percentile50, percentile75, count]\n",
    "    except ValueError:\n",
    "      pass\n",
    "  stat = pd.DataFrame(statData, index = indexes);\n",
    "  return stat;"
   ]
  },
  {
   "cell_type": "code",
   "execution_count": 58,
   "id": "48734a9a",
   "metadata": {},
   "outputs": [
    {
     "data": {
      "text/html": [
       "<div>\n",
       "<style scoped>\n",
       "    .dataframe tbody tr th:only-of-type {\n",
       "        vertical-align: middle;\n",
       "    }\n",
       "\n",
       "    .dataframe tbody tr th {\n",
       "        vertical-align: top;\n",
       "    }\n",
       "\n",
       "    .dataframe thead th {\n",
       "        text-align: right;\n",
       "    }\n",
       "</style>\n",
       "<table border=\"1\" class=\"dataframe\">\n",
       "  <thead>\n",
       "    <tr style=\"text-align: right;\">\n",
       "      <th></th>\n",
       "      <th>Age</th>\n",
       "      <th>Monthly_Income</th>\n",
       "    </tr>\n",
       "  </thead>\n",
       "  <tbody>\n",
       "    <tr>\n",
       "      <th>mean</th>\n",
       "      <td>31.174000</td>\n",
       "      <td>6.196006e+04</td>\n",
       "    </tr>\n",
       "    <tr>\n",
       "      <th>median</th>\n",
       "      <td>31.000000</td>\n",
       "      <td>6.129650e+04</td>\n",
       "    </tr>\n",
       "    <tr>\n",
       "      <th>variance</th>\n",
       "      <td>63.158040</td>\n",
       "      <td>4.716015e+08</td>\n",
       "    </tr>\n",
       "    <tr>\n",
       "      <th>standard deviation</th>\n",
       "      <td>7.947203</td>\n",
       "      <td>2.171639e+04</td>\n",
       "    </tr>\n",
       "    <tr>\n",
       "      <th>minimum</th>\n",
       "      <td>18.000000</td>\n",
       "      <td>2.511100e+04</td>\n",
       "    </tr>\n",
       "    <tr>\n",
       "      <th>maximum</th>\n",
       "      <td>45.000000</td>\n",
       "      <td>9.999900e+04</td>\n",
       "    </tr>\n",
       "    <tr>\n",
       "      <th>25% percentile</th>\n",
       "      <td>24.000000</td>\n",
       "      <td>4.445625e+04</td>\n",
       "    </tr>\n",
       "    <tr>\n",
       "      <th>50% percentile</th>\n",
       "      <td>31.000000</td>\n",
       "      <td>6.129650e+04</td>\n",
       "    </tr>\n",
       "    <tr>\n",
       "      <th>75% percentile</th>\n",
       "      <td>38.000000</td>\n",
       "      <td>8.050125e+04</td>\n",
       "    </tr>\n",
       "    <tr>\n",
       "      <th>count</th>\n",
       "      <td>500.000000</td>\n",
       "      <td>5.000000e+02</td>\n",
       "    </tr>\n",
       "  </tbody>\n",
       "</table>\n",
       "</div>"
      ],
      "text/plain": [
       "                           Age  Monthly_Income\n",
       "mean                 31.174000    6.196006e+04\n",
       "median               31.000000    6.129650e+04\n",
       "variance             63.158040    4.716015e+08\n",
       "standard deviation    7.947203    2.171639e+04\n",
       "minimum              18.000000    2.511100e+04\n",
       "maximum              45.000000    9.999900e+04\n",
       "25% percentile       24.000000    4.445625e+04\n",
       "50% percentile       31.000000    6.129650e+04\n",
       "75% percentile       38.000000    8.050125e+04\n",
       "count               500.000000    5.000000e+02"
      ]
     },
     "execution_count": 58,
     "metadata": {},
     "output_type": "execute_result"
    }
   ],
   "source": [
    "calculate_all_state_values(df)"
   ]
  },
  {
   "cell_type": "code",
   "execution_count": 59,
   "id": "7272b4ad",
   "metadata": {},
   "outputs": [],
   "source": [
    "def calculate_all_state_values_using_formula(df):\n",
    "  statData = {}\n",
    "  indexes = ['mean', 'median', 'mode', 'variance', 'standard deviation', 'minimum', 'maximum', '25% percentile', '50% percentile', '75% percentile', 'count']\n",
    "  for column in df.columns:\n",
    "    try:\n",
    "      columnConvertedValues = pd.to_numeric(df[column])\n",
    "      mean = df[column].sum()/len(df[column])\n",
    "      sorted_data = np.sort(df['Monthly_Income'])\n",
    "      median = df[column].median()\n",
    "      mode = df[column].mode()\n",
    "      var = np.square(df[column] - mean).sum()/len(df[column])\n",
    "      std = np.sqrt(np.square(df[column] - mean).sum()/len(df[column]))\n",
    "      min = df[column].min()\n",
    "      max = df[column].max()\n",
    "      percentile25 = df.loc[int((len(df[column])+1)/4), column]\n",
    "      percentile50 = np.percentile(df[column], 50)\n",
    "      percentile75 = np.percentile(df[column], 75)\n",
    "      count = df[column].count()\n",
    "      statData[column] = [mean, median, mode, var, std, min, max, percentile25, percentile50, percentile75, count]\n",
    "    except ValueError:\n",
    "      pass\n",
    "  stat = pd.DataFrame(statData,index=indexes) \n",
    "  return stat"
   ]
  },
  {
   "cell_type": "code",
   "execution_count": 60,
   "id": "4d71c33a",
   "metadata": {},
   "outputs": [
    {
     "data": {
      "text/html": [
       "<div>\n",
       "<style scoped>\n",
       "    .dataframe tbody tr th:only-of-type {\n",
       "        vertical-align: middle;\n",
       "    }\n",
       "\n",
       "    .dataframe tbody tr th {\n",
       "        vertical-align: top;\n",
       "    }\n",
       "\n",
       "    .dataframe thead th {\n",
       "        text-align: right;\n",
       "    }\n",
       "</style>\n",
       "<table border=\"1\" class=\"dataframe\">\n",
       "  <thead>\n",
       "    <tr style=\"text-align: right;\">\n",
       "      <th></th>\n",
       "      <th>Age</th>\n",
       "      <th>Monthly_Income</th>\n",
       "    </tr>\n",
       "  </thead>\n",
       "  <tbody>\n",
       "    <tr>\n",
       "      <th>mean</th>\n",
       "      <td>31.174</td>\n",
       "      <td>61960.06</td>\n",
       "    </tr>\n",
       "    <tr>\n",
       "      <th>median</th>\n",
       "      <td>31.0</td>\n",
       "      <td>61296.5</td>\n",
       "    </tr>\n",
       "    <tr>\n",
       "      <th>mode</th>\n",
       "      <td>0    23\n",
       "1    35\n",
       "Name: Age, dtype: int64</td>\n",
       "      <td>0      25111\n",
       "1      25188\n",
       "2      25314\n",
       "3      ...</td>\n",
       "    </tr>\n",
       "    <tr>\n",
       "      <th>variance</th>\n",
       "      <td>63.031724</td>\n",
       "      <td>470658288.0204</td>\n",
       "    </tr>\n",
       "    <tr>\n",
       "      <th>standard deviation</th>\n",
       "      <td>7.939252</td>\n",
       "      <td>21694.660357</td>\n",
       "    </tr>\n",
       "    <tr>\n",
       "      <th>minimum</th>\n",
       "      <td>18</td>\n",
       "      <td>25111</td>\n",
       "    </tr>\n",
       "    <tr>\n",
       "      <th>maximum</th>\n",
       "      <td>45</td>\n",
       "      <td>99999</td>\n",
       "    </tr>\n",
       "    <tr>\n",
       "      <th>25% percentile</th>\n",
       "      <td>32</td>\n",
       "      <td>66833</td>\n",
       "    </tr>\n",
       "    <tr>\n",
       "      <th>50% percentile</th>\n",
       "      <td>31.0</td>\n",
       "      <td>61296.5</td>\n",
       "    </tr>\n",
       "    <tr>\n",
       "      <th>75% percentile</th>\n",
       "      <td>38.0</td>\n",
       "      <td>80501.25</td>\n",
       "    </tr>\n",
       "    <tr>\n",
       "      <th>count</th>\n",
       "      <td>500</td>\n",
       "      <td>500</td>\n",
       "    </tr>\n",
       "  </tbody>\n",
       "</table>\n",
       "</div>"
      ],
      "text/plain": [
       "                                                        Age  \\\n",
       "mean                                                 31.174   \n",
       "median                                                 31.0   \n",
       "mode                0    23\n",
       "1    35\n",
       "Name: Age, dtype: int64   \n",
       "variance                                          63.031724   \n",
       "standard deviation                                 7.939252   \n",
       "minimum                                                  18   \n",
       "maximum                                                  45   \n",
       "25% percentile                                           32   \n",
       "50% percentile                                         31.0   \n",
       "75% percentile                                         38.0   \n",
       "count                                                   500   \n",
       "\n",
       "                                                       Monthly_Income  \n",
       "mean                                                         61960.06  \n",
       "median                                                        61296.5  \n",
       "mode                0      25111\n",
       "1      25188\n",
       "2      25314\n",
       "3      ...  \n",
       "variance                                               470658288.0204  \n",
       "standard deviation                                       21694.660357  \n",
       "minimum                                                         25111  \n",
       "maximum                                                         99999  \n",
       "25% percentile                                                  66833  \n",
       "50% percentile                                                61296.5  \n",
       "75% percentile                                               80501.25  \n",
       "count                                                             500  "
      ]
     },
     "execution_count": 60,
     "metadata": {},
     "output_type": "execute_result"
    }
   ],
   "source": [
    "calculate_all_state_values_using_formula(df)"
   ]
  },
  {
   "cell_type": "code",
   "execution_count": 61,
   "id": "7dba8f22",
   "metadata": {},
   "outputs": [],
   "source": [
    "import statistics\n",
    "def calculate_all_state_values_using_stat_module(df):\n",
    "  statData = {}\n",
    "  indexes = ['mean', 'median', 'variance', 'standard deviation', 'minimum', 'maximum', '25% percentile', '50% percentile', '75% percentile', \"count\", \"hormonic mean\"]\n",
    "  for column in df.columns:\n",
    "    try:\n",
    "      columnConvertedValues = pd.to_numeric(df[column])\n",
    "      mean = statistics.mean(df[column])\n",
    "      median = statistics.median(df[column])\n",
    "      var = statistics.variance(df[column])\n",
    "      std = statistics.stdev(df[column])\n",
    "      min = df[column].min()\n",
    "      max = df[column].max()\n",
    "      percentile25 = np.percentile(df[column], 25)\n",
    "      percentile50 = np.percentile(df[column], 50)\n",
    "      percentile75 = np.percentile(df[column], 75)\n",
    "      count = df[column].count()\n",
    "      hormonic_mean = statistics.harmonic_mean(df[column])\n",
    "      statData[column] = [mean, median, var, std, min, max, percentile25, percentile50, percentile75, count, hormonic_mean]\n",
    "    except ValueError:\n",
    "      pass\n",
    "  stat = pd.DataFrame(statData, index = indexes);\n",
    "  return stat;\n"
   ]
  },
  {
   "cell_type": "code",
   "execution_count": 62,
   "id": "89ffa7ca",
   "metadata": {},
   "outputs": [
    {
     "data": {
      "text/html": [
       "<div>\n",
       "<style scoped>\n",
       "    .dataframe tbody tr th:only-of-type {\n",
       "        vertical-align: middle;\n",
       "    }\n",
       "\n",
       "    .dataframe tbody tr th {\n",
       "        vertical-align: top;\n",
       "    }\n",
       "\n",
       "    .dataframe thead th {\n",
       "        text-align: right;\n",
       "    }\n",
       "</style>\n",
       "<table border=\"1\" class=\"dataframe\">\n",
       "  <thead>\n",
       "    <tr style=\"text-align: right;\">\n",
       "      <th></th>\n",
       "      <th>Age</th>\n",
       "      <th>Monthly_Income</th>\n",
       "    </tr>\n",
       "  </thead>\n",
       "  <tbody>\n",
       "    <tr>\n",
       "      <th>mean</th>\n",
       "      <td>31.174000</td>\n",
       "      <td>6.196006e+04</td>\n",
       "    </tr>\n",
       "    <tr>\n",
       "      <th>median</th>\n",
       "      <td>31.000000</td>\n",
       "      <td>6.129650e+04</td>\n",
       "    </tr>\n",
       "    <tr>\n",
       "      <th>variance</th>\n",
       "      <td>63.158040</td>\n",
       "      <td>4.716015e+08</td>\n",
       "    </tr>\n",
       "    <tr>\n",
       "      <th>standard deviation</th>\n",
       "      <td>7.947203</td>\n",
       "      <td>2.171639e+04</td>\n",
       "    </tr>\n",
       "    <tr>\n",
       "      <th>minimum</th>\n",
       "      <td>18.000000</td>\n",
       "      <td>2.511100e+04</td>\n",
       "    </tr>\n",
       "    <tr>\n",
       "      <th>maximum</th>\n",
       "      <td>45.000000</td>\n",
       "      <td>9.999900e+04</td>\n",
       "    </tr>\n",
       "    <tr>\n",
       "      <th>25% percentile</th>\n",
       "      <td>24.000000</td>\n",
       "      <td>4.445625e+04</td>\n",
       "    </tr>\n",
       "    <tr>\n",
       "      <th>50% percentile</th>\n",
       "      <td>31.000000</td>\n",
       "      <td>6.129650e+04</td>\n",
       "    </tr>\n",
       "    <tr>\n",
       "      <th>75% percentile</th>\n",
       "      <td>38.000000</td>\n",
       "      <td>8.050125e+04</td>\n",
       "    </tr>\n",
       "    <tr>\n",
       "      <th>count</th>\n",
       "      <td>500.000000</td>\n",
       "      <td>5.000000e+02</td>\n",
       "    </tr>\n",
       "    <tr>\n",
       "      <th>hormonic mean</th>\n",
       "      <td>29.066731</td>\n",
       "      <td>5.368681e+04</td>\n",
       "    </tr>\n",
       "  </tbody>\n",
       "</table>\n",
       "</div>"
      ],
      "text/plain": [
       "                           Age  Monthly_Income\n",
       "mean                 31.174000    6.196006e+04\n",
       "median               31.000000    6.129650e+04\n",
       "variance             63.158040    4.716015e+08\n",
       "standard deviation    7.947203    2.171639e+04\n",
       "minimum              18.000000    2.511100e+04\n",
       "maximum              45.000000    9.999900e+04\n",
       "25% percentile       24.000000    4.445625e+04\n",
       "50% percentile       31.000000    6.129650e+04\n",
       "75% percentile       38.000000    8.050125e+04\n",
       "count               500.000000    5.000000e+02\n",
       "hormonic mean        29.066731    5.368681e+04"
      ]
     },
     "execution_count": 62,
     "metadata": {},
     "output_type": "execute_result"
    }
   ],
   "source": [
    "calculate_all_state_values_using_stat_module(df)"
   ]
  },
  {
   "cell_type": "code",
   "execution_count": null,
   "id": "b154c5c8",
   "metadata": {},
   "outputs": [],
   "source": []
  }
 ],
 "metadata": {
  "kernelspec": {
   "display_name": "Python 3 (ipykernel)",
   "language": "python",
   "name": "python3"
  },
  "language_info": {
   "codemirror_mode": {
    "name": "ipython",
    "version": 3
   },
   "file_extension": ".py",
   "mimetype": "text/x-python",
   "name": "python",
   "nbconvert_exporter": "python",
   "pygments_lexer": "ipython3",
   "version": "3.8.8"
  }
 },
 "nbformat": 4,
 "nbformat_minor": 5
}
