{
 "cells": [
  {
   "cell_type": "markdown",
   "id": "1ade69ca",
   "metadata": {},
   "source": [
    "# DATA ANALYTICS I\n",
    "\n",
    "\n",
    "Create a Linear Regression Model using Python/R to predict home prices using Boston Housing Dataset (https://www.kaggle.com/c/boston-housing). \n",
    "The Boston Housing dataset contains information about various houses in Boston\n",
    "through different parameters. There are 506 samples and 14 feature variables in this dataset."
   ]
  },
  {
   "cell_type": "code",
   "execution_count": 40,
   "id": "3242a9d4",
   "metadata": {},
   "outputs": [],
   "source": [
    "# Import libraries and create alias for Pandas, Numpy and Matplotlib\n",
    "import pandas as pd\n",
    "import numpy as np\n",
    "import matplotlib.pyplot as plt"
   ]
  },
  {
   "cell_type": "code",
   "execution_count": 44,
   "id": "bd6fb3c9",
   "metadata": {},
   "outputs": [],
   "source": [
    "# Import the Boston Housing dataset\n",
    "from sklearn.datasets import fetch_california_housing\n",
    "housing = fetch_california_housing()"
   ]
  },
  {
   "cell_type": "code",
   "execution_count": 45,
   "id": "b33a0c09",
   "metadata": {},
   "outputs": [],
   "source": [
    "# Initialize the data frame\n",
    "data = pd.DataFrame(housing.data)"
   ]
  },
  {
   "cell_type": "code",
   "execution_count": 47,
   "id": "0ae305ac",
   "metadata": {},
   "outputs": [
    {
     "data": {
      "text/html": [
       "<div>\n",
       "<style scoped>\n",
       "    .dataframe tbody tr th:only-of-type {\n",
       "        vertical-align: middle;\n",
       "    }\n",
       "\n",
       "    .dataframe tbody tr th {\n",
       "        vertical-align: top;\n",
       "    }\n",
       "\n",
       "    .dataframe thead th {\n",
       "        text-align: right;\n",
       "    }\n",
       "</style>\n",
       "<table border=\"1\" class=\"dataframe\">\n",
       "  <thead>\n",
       "    <tr style=\"text-align: right;\">\n",
       "      <th></th>\n",
       "      <th>MedInc</th>\n",
       "      <th>HouseAge</th>\n",
       "      <th>AveRooms</th>\n",
       "      <th>AveBedrms</th>\n",
       "      <th>Population</th>\n",
       "      <th>AveOccup</th>\n",
       "      <th>Latitude</th>\n",
       "      <th>Longitude</th>\n",
       "    </tr>\n",
       "  </thead>\n",
       "  <tbody>\n",
       "    <tr>\n",
       "      <th>0</th>\n",
       "      <td>8.3252</td>\n",
       "      <td>41.0</td>\n",
       "      <td>6.984127</td>\n",
       "      <td>1.023810</td>\n",
       "      <td>322.0</td>\n",
       "      <td>2.555556</td>\n",
       "      <td>37.88</td>\n",
       "      <td>-122.23</td>\n",
       "    </tr>\n",
       "    <tr>\n",
       "      <th>1</th>\n",
       "      <td>8.3014</td>\n",
       "      <td>21.0</td>\n",
       "      <td>6.238137</td>\n",
       "      <td>0.971880</td>\n",
       "      <td>2401.0</td>\n",
       "      <td>2.109842</td>\n",
       "      <td>37.86</td>\n",
       "      <td>-122.22</td>\n",
       "    </tr>\n",
       "    <tr>\n",
       "      <th>2</th>\n",
       "      <td>7.2574</td>\n",
       "      <td>52.0</td>\n",
       "      <td>8.288136</td>\n",
       "      <td>1.073446</td>\n",
       "      <td>496.0</td>\n",
       "      <td>2.802260</td>\n",
       "      <td>37.85</td>\n",
       "      <td>-122.24</td>\n",
       "    </tr>\n",
       "    <tr>\n",
       "      <th>3</th>\n",
       "      <td>5.6431</td>\n",
       "      <td>52.0</td>\n",
       "      <td>5.817352</td>\n",
       "      <td>1.073059</td>\n",
       "      <td>558.0</td>\n",
       "      <td>2.547945</td>\n",
       "      <td>37.85</td>\n",
       "      <td>-122.25</td>\n",
       "    </tr>\n",
       "    <tr>\n",
       "      <th>4</th>\n",
       "      <td>3.8462</td>\n",
       "      <td>52.0</td>\n",
       "      <td>6.281853</td>\n",
       "      <td>1.081081</td>\n",
       "      <td>565.0</td>\n",
       "      <td>2.181467</td>\n",
       "      <td>37.85</td>\n",
       "      <td>-122.25</td>\n",
       "    </tr>\n",
       "  </tbody>\n",
       "</table>\n",
       "</div>"
      ],
      "text/plain": [
       "   MedInc  HouseAge  AveRooms  AveBedrms  Population  AveOccup  Latitude  \\\n",
       "0  8.3252      41.0  6.984127   1.023810       322.0  2.555556     37.88   \n",
       "1  8.3014      21.0  6.238137   0.971880      2401.0  2.109842     37.86   \n",
       "2  7.2574      52.0  8.288136   1.073446       496.0  2.802260     37.85   \n",
       "3  5.6431      52.0  5.817352   1.073059       558.0  2.547945     37.85   \n",
       "4  3.8462      52.0  6.281853   1.081081       565.0  2.181467     37.85   \n",
       "\n",
       "   Longitude  \n",
       "0    -122.23  \n",
       "1    -122.22  \n",
       "2    -122.24  \n",
       "3    -122.25  \n",
       "4    -122.25  "
      ]
     },
     "execution_count": 47,
     "metadata": {},
     "output_type": "execute_result"
    }
   ],
   "source": [
    "# Add the feature names to the dataframe\n",
    "data.columns = housing.feature_names\n",
    "data.head()"
   ]
  },
  {
   "cell_type": "code",
   "execution_count": 48,
   "id": "8ad21152",
   "metadata": {},
   "outputs": [],
   "source": [
    "# Adding target variable to dataframe\n",
    "data['PRICE'] = housing.target"
   ]
  },
  {
   "cell_type": "code",
   "execution_count": 49,
   "id": "40d2263d",
   "metadata": {},
   "outputs": [
    {
     "data": {
      "text/plain": [
       "MedInc        0\n",
       "HouseAge      0\n",
       "AveRooms      0\n",
       "AveBedrms     0\n",
       "Population    0\n",
       "AveOccup      0\n",
       "Latitude      0\n",
       "Longitude     0\n",
       "PRICE         0\n",
       "dtype: int64"
      ]
     },
     "execution_count": 49,
     "metadata": {},
     "output_type": "execute_result"
    }
   ],
   "source": [
    "# Perform Data Preprocessing( Check for missing values)\n",
    "data.isnull().sum()"
   ]
  },
  {
   "cell_type": "code",
   "execution_count": 50,
   "id": "8b996bc6",
   "metadata": {},
   "outputs": [],
   "source": [
    "# Split dependent variable and independent variables\n",
    "x = data.drop(['PRICE'],axis = 1)\n",
    "y = data['PRICE']"
   ]
  },
  {
   "cell_type": "code",
   "execution_count": 52,
   "id": "a4bd5534",
   "metadata": {},
   "outputs": [],
   "source": [
    "# splitting data to training and testing dataset.\n",
    "from sklearn.model_selection import train_test_split\n",
    "xtrain, xtest, ytrain, ytest = train_test_split(x,y,test_size=0.2,random_state=0) "
   ]
  },
  {
   "cell_type": "code",
   "execution_count": 55,
   "id": "b61cc7f5",
   "metadata": {},
   "outputs": [],
   "source": [
    "# Use linear regression( Train the Machine ) to Create Model\n",
    "import sklearn\n",
    "from sklearn.linear_model import LinearRegression\n",
    "linear = LinearRegression()\n",
    "model = linear.fit(xtrain,ytrain)"
   ]
  },
  {
   "cell_type": "code",
   "execution_count": 57,
   "id": "6f11ce3c",
   "metadata": {},
   "outputs": [],
   "source": [
    "# Predict the y_pred for all values of train_x and test_x\n",
    "ytrain_pred = linear.predict(xtrain)\n",
    "ytest_pred = linear.predict(xtest)"
   ]
  },
  {
   "cell_type": "code",
   "execution_count": 59,
   "id": "2630d8c8",
   "metadata": {},
   "outputs": [],
   "source": [
    "# Evaluate the performance of Model for train_y and test_y\n",
    "df = pd.DataFrame(ytrain_pred,ytrain)\n",
    "df = pd.DataFrame(ytest_pred,ytest)"
   ]
  },
  {
   "cell_type": "code",
   "execution_count": 61,
   "id": "1b166162",
   "metadata": {},
   "outputs": [
    {
     "name": "stdout",
     "output_type": "stream",
     "text": [
      "0.5289841670367221\n",
      "0.5234413607125449\n"
     ]
    }
   ],
   "source": [
    "# Calculate Mean Square Paper for train_y and test_y\n",
    "from sklearn.metrics import mean_squared_error,r2_score\n",
    "mse = mean_squared_error(ytest,ytest_pred)\n",
    "print(mse)\n",
    "mse = mean_squared_error(ytrain_pred,ytrain)\n",
    "print(mse)"
   ]
  },
  {
   "cell_type": "code",
   "execution_count": 79,
   "id": "82f11de5",
   "metadata": {},
   "outputs": [
    {
     "data": {
      "image/png": "[encoded data removed]",
      "text/plain": [
       "<Figure size 640x480 with 1 Axes>"
      ]
     },
     "metadata": {},
     "output_type": "display_data"
    }
   ],
   "source": [
    "# Plotting the linear regression model\n",
    "plt.scatter(ytrain ,ytrain_pred,c='blue',marker='o',label='Training data')\n",
    "plt.scatter(ytest,ytest_pred ,c='lightgreen',marker='s',label='Test data')\n",
    "plt.xlabel('True values')\n",
    "plt.ylabel('Predicted')\n",
    "plt.title(\"True value vs Predicted value\")\n",
    "plt.legend(loc='lower right') #plt.hlines(y=0,xmin=0,xmax=50)\n",
    "plt.plot()\n",
    "plt.show()"
   ]
  },
  {
   "cell_type": "code",
   "execution_count": null,
   "id": "f334a417",
   "metadata": {},
   "outputs": [],
   "source": []
  }
 ],
 "metadata": {
  "kernelspec": {
   "display_name": "Python 3 (ipykernel)",
   "language": "python",
   "name": "python3"
  },
  "language_info": {
   "codemirror_mode": {
    "name": "ipython",
    "version": 3
   },
   "file_extension": ".py",
   "mimetype": "text/x-python",
   "name": "python",
   "nbconvert_exporter": "python",
   "pygments_lexer": "ipython3",
   "version": "3.8.8"
  }
 },
 "nbformat": 4,
 "nbformat_minor": 5
}
