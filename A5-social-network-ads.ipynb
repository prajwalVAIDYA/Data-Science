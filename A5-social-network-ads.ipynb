{
 "cells": [
  {
   "cell_type": "markdown",
   "id": "4e7dfd9c",
   "metadata": {
    "papermill": {
     "duration": 0.004532,
     "end_time": "2023-05-29T18:20:04.319248",
     "exception": false,
     "start_time": "2023-05-29T18:20:04.314716",
     "status": "completed"
    },
    "tags": []
   },
   "source": [
    "# DATA ANALYTICS II\n",
    "\n",
    "1. Implement logistic regression using Python/R to perform classification on Social_Network_Ads.csv dataset.\n",
    "2. Compute Confusion matrix to find TP, FP, TN, FN, Accuracy, Error rate, Precision, Recallon the given dataset."
   ]
  },
  {
   "cell_type": "code",
   "execution_count": 1,
   "id": "4dc176d4",
   "metadata": {
    "execution": {
     "iopub.execute_input": "2023-05-29T18:20:04.329713Z",
     "iopub.status.busy": "2023-05-29T18:20:04.329350Z",
     "iopub.status.idle": "2023-05-29T18:20:05.846275Z",
     "shell.execute_reply": "2023-05-29T18:20:05.845126Z"
    },
    "papermill": {
     "duration": 1.525795,
     "end_time": "2023-05-29T18:20:05.849191",
     "exception": false,
     "start_time": "2023-05-29T18:20:04.323396",
     "status": "completed"
    },
    "tags": []
   },
   "outputs": [],
   "source": [
    "# Importing the libraries\n",
    "import numpy as np\n",
    "import matplotlib.pyplot as plt\n",
    "import pandas as pd\n",
    "import seaborn as sns"
   ]
  },
  {
   "cell_type": "code",
   "execution_count": 2,
   "id": "8ca46371",
   "metadata": {
    "execution": {
     "iopub.execute_input": "2023-05-29T18:20:05.859266Z",
     "iopub.status.busy": "2023-05-29T18:20:05.858856Z",
     "iopub.status.idle": "2023-05-29T18:20:05.924929Z",
     "shell.execute_reply": "2023-05-29T18:20:05.923674Z"
    },
    "papermill": {
     "duration": 0.074007,
     "end_time": "2023-05-29T18:20:05.927478",
     "exception": false,
     "start_time": "2023-05-29T18:20:05.853471",
     "status": "completed"
    },
    "tags": []
   },
   "outputs": [
    {
     "data": {
      "text/html": [
       "<div>\n",
       "<style scoped>\n",
       "    .dataframe tbody tr th:only-of-type {\n",
       "        vertical-align: middle;\n",
       "    }\n",
       "\n",
       "    .dataframe tbody tr th {\n",
       "        vertical-align: top;\n",
       "    }\n",
       "\n",
       "    .dataframe thead th {\n",
       "        text-align: right;\n",
       "    }\n",
       "</style>\n",
       "<table border=\"1\" class=\"dataframe\">\n",
       "  <thead>\n",
       "    <tr style=\"text-align: right;\">\n",
       "      <th></th>\n",
       "      <th>User ID</th>\n",
       "      <th>Gender</th>\n",
       "      <th>Age</th>\n",
       "      <th>EstimatedSalary</th>\n",
       "      <th>Purchased</th>\n",
       "    </tr>\n",
       "  </thead>\n",
       "  <tbody>\n",
       "    <tr>\n",
       "      <th>0</th>\n",
       "      <td>15624510</td>\n",
       "      <td>Male</td>\n",
       "      <td>19</td>\n",
       "      <td>19000</td>\n",
       "      <td>0</td>\n",
       "    </tr>\n",
       "    <tr>\n",
       "      <th>1</th>\n",
       "      <td>15810944</td>\n",
       "      <td>Male</td>\n",
       "      <td>35</td>\n",
       "      <td>20000</td>\n",
       "      <td>0</td>\n",
       "    </tr>\n",
       "    <tr>\n",
       "      <th>2</th>\n",
       "      <td>15668575</td>\n",
       "      <td>Female</td>\n",
       "      <td>26</td>\n",
       "      <td>43000</td>\n",
       "      <td>0</td>\n",
       "    </tr>\n",
       "    <tr>\n",
       "      <th>3</th>\n",
       "      <td>15603246</td>\n",
       "      <td>Female</td>\n",
       "      <td>27</td>\n",
       "      <td>57000</td>\n",
       "      <td>0</td>\n",
       "    </tr>\n",
       "    <tr>\n",
       "      <th>4</th>\n",
       "      <td>15804002</td>\n",
       "      <td>Male</td>\n",
       "      <td>19</td>\n",
       "      <td>76000</td>\n",
       "      <td>0</td>\n",
       "    </tr>\n",
       "    <tr>\n",
       "      <th>...</th>\n",
       "      <td>...</td>\n",
       "      <td>...</td>\n",
       "      <td>...</td>\n",
       "      <td>...</td>\n",
       "      <td>...</td>\n",
       "    </tr>\n",
       "    <tr>\n",
       "      <th>395</th>\n",
       "      <td>15691863</td>\n",
       "      <td>Female</td>\n",
       "      <td>46</td>\n",
       "      <td>41000</td>\n",
       "      <td>1</td>\n",
       "    </tr>\n",
       "    <tr>\n",
       "      <th>396</th>\n",
       "      <td>15706071</td>\n",
       "      <td>Male</td>\n",
       "      <td>51</td>\n",
       "      <td>23000</td>\n",
       "      <td>1</td>\n",
       "    </tr>\n",
       "    <tr>\n",
       "      <th>397</th>\n",
       "      <td>15654296</td>\n",
       "      <td>Female</td>\n",
       "      <td>50</td>\n",
       "      <td>20000</td>\n",
       "      <td>1</td>\n",
       "    </tr>\n",
       "    <tr>\n",
       "      <th>398</th>\n",
       "      <td>15755018</td>\n",
       "      <td>Male</td>\n",
       "      <td>36</td>\n",
       "      <td>33000</td>\n",
       "      <td>0</td>\n",
       "    </tr>\n",
       "    <tr>\n",
       "      <th>399</th>\n",
       "      <td>15594041</td>\n",
       "      <td>Female</td>\n",
       "      <td>49</td>\n",
       "      <td>36000</td>\n",
       "      <td>1</td>\n",
       "    </tr>\n",
       "  </tbody>\n",
       "</table>\n",
       "<p>400 rows × 5 columns</p>\n",
       "</div>"
      ],
      "text/plain": [
       "      User ID  Gender  Age  EstimatedSalary  Purchased\n",
       "0    15624510    Male   19            19000          0\n",
       "1    15810944    Male   35            20000          0\n",
       "2    15668575  Female   26            43000          0\n",
       "3    15603246  Female   27            57000          0\n",
       "4    15804002    Male   19            76000          0\n",
       "..        ...     ...  ...              ...        ...\n",
       "395  15691863  Female   46            41000          1\n",
       "396  15706071    Male   51            23000          1\n",
       "397  15654296  Female   50            20000          1\n",
       "398  15755018    Male   36            33000          0\n",
       "399  15594041  Female   49            36000          1\n",
       "\n",
       "[400 rows x 5 columns]"
      ]
     },
     "execution_count": 2,
     "metadata": {},
     "output_type": "execute_result"
    }
   ],
   "source": [
    "# Importing the dataset\n",
    "dataset = pd.read_csv('/kaggle/input/social-network-ads/Social_Network_Ads.csv')\n",
    "dataset"
   ]
  },
  {
   "cell_type": "code",
   "execution_count": 3,
   "id": "3343ca60",
   "metadata": {
    "execution": {
     "iopub.execute_input": "2023-05-29T18:20:05.938842Z",
     "iopub.status.busy": "2023-05-29T18:20:05.938104Z",
     "iopub.status.idle": "2023-05-29T18:20:05.961837Z",
     "shell.execute_reply": "2023-05-29T18:20:05.960670Z"
    },
    "papermill": {
     "duration": 0.032963,
     "end_time": "2023-05-29T18:20:05.965020",
     "exception": false,
     "start_time": "2023-05-29T18:20:05.932057",
     "status": "completed"
    },
    "tags": []
   },
   "outputs": [
    {
     "name": "stdout",
     "output_type": "stream",
     "text": [
      "<class 'pandas.core.frame.DataFrame'>\n",
      "RangeIndex: 400 entries, 0 to 399\n",
      "Data columns (total 5 columns):\n",
      " #   Column           Non-Null Count  Dtype \n",
      "---  ------           --------------  ----- \n",
      " 0   User ID          400 non-null    int64 \n",
      " 1   Gender           400 non-null    object\n",
      " 2   Age              400 non-null    int64 \n",
      " 3   EstimatedSalary  400 non-null    int64 \n",
      " 4   Purchased        400 non-null    int64 \n",
      "dtypes: int64(4), object(1)\n",
      "memory usage: 15.8+ KB\n"
     ]
    }
   ],
   "source": [
    "dataset.info()"
   ]
  },
  {
   "cell_type": "code",
   "execution_count": 4,
   "id": "4dd00770",
   "metadata": {
    "execution": {
     "iopub.execute_input": "2023-05-29T18:20:05.976339Z",
     "iopub.status.busy": "2023-05-29T18:20:05.975928Z",
     "iopub.status.idle": "2023-05-29T18:20:05.986087Z",
     "shell.execute_reply": "2023-05-29T18:20:05.984917Z"
    },
    "papermill": {
     "duration": 0.018634,
     "end_time": "2023-05-29T18:20:05.988463",
     "exception": false,
     "start_time": "2023-05-29T18:20:05.969829",
     "status": "completed"
    },
    "tags": []
   },
   "outputs": [
    {
     "data": {
      "text/plain": [
       "User ID            0\n",
       "Gender             0\n",
       "Age                0\n",
       "EstimatedSalary    0\n",
       "Purchased          0\n",
       "dtype: int64"
      ]
     },
     "execution_count": 4,
     "metadata": {},
     "output_type": "execute_result"
    }
   ],
   "source": [
    "dataset.isnull().sum()"
   ]
  },
  {
   "cell_type": "code",
   "execution_count": 5,
   "id": "031b5690",
   "metadata": {
    "execution": {
     "iopub.execute_input": "2023-05-29T18:20:06.000602Z",
     "iopub.status.busy": "2023-05-29T18:20:06.000172Z",
     "iopub.status.idle": "2023-05-29T18:20:06.007243Z",
     "shell.execute_reply": "2023-05-29T18:20:06.005970Z"
    },
    "papermill": {
     "duration": 0.016025,
     "end_time": "2023-05-29T18:20:06.009600",
     "exception": false,
     "start_time": "2023-05-29T18:20:05.993575",
     "status": "completed"
    },
    "tags": []
   },
   "outputs": [],
   "source": [
    "#Spliting the dataset in independent and dependent variables\n",
    "X = dataset.loc[:, ['Age', 'EstimatedSalary']].values\n",
    "y = dataset['Purchased'].values"
   ]
  },
  {
   "cell_type": "code",
   "execution_count": 6,
   "id": "4a1c7845",
   "metadata": {
    "execution": {
     "iopub.execute_input": "2023-05-29T18:20:06.021711Z",
     "iopub.status.busy": "2023-05-29T18:20:06.021303Z",
     "iopub.status.idle": "2023-05-29T18:20:06.299754Z",
     "shell.execute_reply": "2023-05-29T18:20:06.298730Z"
    },
    "papermill": {
     "duration": 0.287872,
     "end_time": "2023-05-29T18:20:06.302592",
     "exception": false,
     "start_time": "2023-05-29T18:20:06.014720",
     "status": "completed"
    },
    "tags": []
   },
   "outputs": [],
   "source": [
    "# Splitting the dataset into the Training set and Test set\n",
    "from sklearn.model_selection import train_test_split\n",
    "X_train, X_test, y_train, y_test = train_test_split(X, y, test_size = 0.20, random_state = 42)"
   ]
  },
  {
   "cell_type": "code",
   "execution_count": 7,
   "id": "0f707826",
   "metadata": {
    "execution": {
     "iopub.execute_input": "2023-05-29T18:20:06.314497Z",
     "iopub.status.busy": "2023-05-29T18:20:06.314073Z",
     "iopub.status.idle": "2023-05-29T18:20:06.321475Z",
     "shell.execute_reply": "2023-05-29T18:20:06.320524Z"
    },
    "papermill": {
     "duration": 0.016013,
     "end_time": "2023-05-29T18:20:06.323695",
     "exception": false,
     "start_time": "2023-05-29T18:20:06.307682",
     "status": "completed"
    },
    "tags": []
   },
   "outputs": [],
   "source": [
    "# Feature Scaling to bring the variable in a single scale\n",
    "from sklearn.preprocessing import StandardScaler\n",
    "sc = StandardScaler()\n",
    "X_train = sc.fit_transform(X_train)\n",
    "X_test = sc.transform(X_test)"
   ]
  },
  {
   "cell_type": "code",
   "execution_count": 8,
   "id": "6eb0070e",
   "metadata": {
    "execution": {
     "iopub.execute_input": "2023-05-29T18:20:06.335770Z",
     "iopub.status.busy": "2023-05-29T18:20:06.335329Z",
     "iopub.status.idle": "2023-05-29T18:20:06.462912Z",
     "shell.execute_reply": "2023-05-29T18:20:06.461666Z"
    },
    "papermill": {
     "duration": 0.136689,
     "end_time": "2023-05-29T18:20:06.465532",
     "exception": false,
     "start_time": "2023-05-29T18:20:06.328843",
     "status": "completed"
    },
    "tags": []
   },
   "outputs": [
    {
     "data": {
      "text/html": [
       "<style>#sk-container-id-1 {color: black;background-color: white;}#sk-container-id-1 pre{padding: 0;}#sk-container-id-1 div.sk-toggleable {background-color: white;}#sk-container-id-1 label.sk-toggleable__label {cursor: pointer;display: block;width: 100%;margin-bottom: 0;padding: 0.3em;box-sizing: border-box;text-align: center;}#sk-container-id-1 label.sk-toggleable__label-arrow:before {content: \"▸\";float: left;margin-right: 0.25em;color: #696969;}#sk-container-id-1 label.sk-toggleable__label-arrow:hover:before {color: black;}#sk-container-id-1 div.sk-estimator:hover label.sk-toggleable__label-arrow:before {color: black;}#sk-container-id-1 div.sk-toggleable__content {max-height: 0;max-width: 0;overflow: hidden;text-align: left;background-color: #f0f8ff;}#sk-container-id-1 div.sk-toggleable__content pre {margin: 0.2em;color: black;border-radius: 0.25em;background-color: #f0f8ff;}#sk-container-id-1 input.sk-toggleable__control:checked~div.sk-toggleable__content {max-height: 200px;max-width: 100%;overflow: auto;}#sk-container-id-1 input.sk-toggleable__control:checked~label.sk-toggleable__label-arrow:before {content: \"▾\";}#sk-container-id-1 div.sk-estimator input.sk-toggleable__control:checked~label.sk-toggleable__label {background-color: #d4ebff;}#sk-container-id-1 div.sk-label input.sk-toggleable__control:checked~label.sk-toggleable__label {background-color: #d4ebff;}#sk-container-id-1 input.sk-hidden--visually {border: 0;clip: rect(1px 1px 1px 1px);clip: rect(1px, 1px, 1px, 1px);height: 1px;margin: -1px;overflow: hidden;padding: 0;position: absolute;width: 1px;}#sk-container-id-1 div.sk-estimator {font-family: monospace;background-color: #f0f8ff;border: 1px dotted black;border-radius: 0.25em;box-sizing: border-box;margin-bottom: 0.5em;}#sk-container-id-1 div.sk-estimator:hover {background-color: #d4ebff;}#sk-container-id-1 div.sk-parallel-item::after {content: \"\";width: 100%;border-bottom: 1px solid gray;flex-grow: 1;}#sk-container-id-1 div.sk-label:hover label.sk-toggleable__label {background-color: #d4ebff;}#sk-container-id-1 div.sk-serial::before {content: \"\";position: absolute;border-left: 1px solid gray;box-sizing: border-box;top: 0;bottom: 0;left: 50%;z-index: 0;}#sk-container-id-1 div.sk-serial {display: flex;flex-direction: column;align-items: center;background-color: white;padding-right: 0.2em;padding-left: 0.2em;position: relative;}#sk-container-id-1 div.sk-item {position: relative;z-index: 1;}#sk-container-id-1 div.sk-parallel {display: flex;align-items: stretch;justify-content: center;background-color: white;position: relative;}#sk-container-id-1 div.sk-item::before, #sk-container-id-1 div.sk-parallel-item::before {content: \"\";position: absolute;border-left: 1px solid gray;box-sizing: border-box;top: 0;bottom: 0;left: 50%;z-index: -1;}#sk-container-id-1 div.sk-parallel-item {display: flex;flex-direction: column;z-index: 1;position: relative;background-color: white;}#sk-container-id-1 div.sk-parallel-item:first-child::after {align-self: flex-end;width: 50%;}#sk-container-id-1 div.sk-parallel-item:last-child::after {align-self: flex-start;width: 50%;}#sk-container-id-1 div.sk-parallel-item:only-child::after {width: 0;}#sk-container-id-1 div.sk-dashed-wrapped {border: 1px dashed gray;margin: 0 0.4em 0.5em 0.4em;box-sizing: border-box;padding-bottom: 0.4em;background-color: white;}#sk-container-id-1 div.sk-label label {font-family: monospace;font-weight: bold;display: inline-block;line-height: 1.2em;}#sk-container-id-1 div.sk-label-container {text-align: center;}#sk-container-id-1 div.sk-container {/* jupyter's `normalize.less` sets `[hidden] { display: none; }` but bootstrap.min.css set `[hidden] { display: none !important; }` so we also need the `!important` here to be able to override the default hidden behavior on the sphinx rendered scikit-learn.org. See: https://github.com/scikit-learn/scikit-learn/issues/21755 */display: inline-block !important;position: relative;}#sk-container-id-1 div.sk-text-repr-fallback {display: none;}</style><div id=\"sk-container-id-1\" class=\"sk-top-container\"><div class=\"sk-text-repr-fallback\"><pre>LogisticRegression()</pre><b>In a Jupyter environment, please rerun this cell to show the HTML representation or trust the notebook. <br />On GitHub, the HTML representation is unable to render, please try loading this page with nbviewer.org.</b></div><div class=\"sk-container\" hidden><div class=\"sk-item\"><div class=\"sk-estimator sk-toggleable\"><input class=\"sk-toggleable__control sk-hidden--visually\" id=\"sk-estimator-id-1\" type=\"checkbox\" checked><label for=\"sk-estimator-id-1\" class=\"sk-toggleable__label sk-toggleable__label-arrow\">LogisticRegression</label><div class=\"sk-toggleable__content\"><pre>LogisticRegression()</pre></div></div></div></div></div>"
      ],
      "text/plain": [
       "LogisticRegression()"
      ]
     },
     "execution_count": 8,
     "metadata": {},
     "output_type": "execute_result"
    }
   ],
   "source": [
    "# Fitting Logistic Regression to the Training set\n",
    "from sklearn.linear_model import LogisticRegression\n",
    "logisticregression = LogisticRegression()\n",
    "logisticregression.fit(X_train, y_train)"
   ]
  },
  {
   "cell_type": "code",
   "execution_count": 9,
   "id": "a44d3eef",
   "metadata": {
    "execution": {
     "iopub.execute_input": "2023-05-29T18:20:06.478911Z",
     "iopub.status.busy": "2023-05-29T18:20:06.478017Z",
     "iopub.status.idle": "2023-05-29T18:20:06.485290Z",
     "shell.execute_reply": "2023-05-29T18:20:06.483970Z"
    },
    "papermill": {
     "duration": 0.01634,
     "end_time": "2023-05-29T18:20:06.487471",
     "exception": false,
     "start_time": "2023-05-29T18:20:06.471131",
     "status": "completed"
    },
    "tags": []
   },
   "outputs": [
    {
     "name": "stdout",
     "output_type": "stream",
     "text": [
      "[0 1 0 1 0 0 1 0 0 0 0 1 0 0 0 0 1 1 0 1 0 0 0 1 0 0 1 0 1 0 0 0 1 0 1 0 0\n",
      " 0 0 0 0 0 0 0 0 1 0 0 0 0 0 1 0 0 0 0 1 0 0 0 0 0 1 0 0 0 1 1 0 0 1 0 0 0\n",
      " 0 0 1 1 0 0]\n"
     ]
    }
   ],
   "source": [
    "# Predicting the Test set results\n",
    "y_pred = logisticregression.predict(X_test)\n",
    "print(y_pred)"
   ]
  },
  {
   "cell_type": "code",
   "execution_count": 10,
   "id": "5f784610",
   "metadata": {
    "execution": {
     "iopub.execute_input": "2023-05-29T18:20:06.502068Z",
     "iopub.status.busy": "2023-05-29T18:20:06.501409Z",
     "iopub.status.idle": "2023-05-29T18:20:06.505820Z",
     "shell.execute_reply": "2023-05-29T18:20:06.504949Z"
    },
    "papermill": {
     "duration": 0.013412,
     "end_time": "2023-05-29T18:20:06.507909",
     "exception": false,
     "start_time": "2023-05-29T18:20:06.494497",
     "status": "completed"
    },
    "tags": []
   },
   "outputs": [],
   "source": [
    "from sklearn.metrics import precision_score,confusion_matrix,accuracy_score,recall_score,f1_score"
   ]
  },
  {
   "cell_type": "code",
   "execution_count": 11,
   "id": "db434bf9",
   "metadata": {
    "execution": {
     "iopub.execute_input": "2023-05-29T18:20:06.521882Z",
     "iopub.status.busy": "2023-05-29T18:20:06.521207Z",
     "iopub.status.idle": "2023-05-29T18:20:06.835184Z",
     "shell.execute_reply": "2023-05-29T18:20:06.833858Z"
    },
    "papermill": {
     "duration": 0.323769,
     "end_time": "2023-05-29T18:20:06.837681",
     "exception": false,
     "start_time": "2023-05-29T18:20:06.513912",
     "status": "completed"
    },
    "tags": []
   },
   "outputs": [
    {
     "data": {
      "image/png": "[encoded data removed]",
      "text/plain": [
       "<Figure size 640x480 with 2 Axes>"
      ]
     },
     "metadata": {},
     "output_type": "display_data"
    }
   ],
   "source": [
    "# Making the Confusion Matrix\n",
    "from sklearn.metrics import confusion_matrix\n",
    "cm = confusion_matrix(y_test, y_pred)\n",
    "sns.heatmap(cm,annot=True)\n",
    "plt.ylabel('Prediction',fontsize=13)\n",
    "plt.xlabel('Actual',fontsize=13)\n",
    "plt.title('Confusion Matrix',fontsize=17)\n",
    "plt.show()"
   ]
  },
  {
   "cell_type": "code",
   "execution_count": 12,
   "id": "824c6c5f",
   "metadata": {
    "execution": {
     "iopub.execute_input": "2023-05-29T18:20:06.851703Z",
     "iopub.status.busy": "2023-05-29T18:20:06.851283Z",
     "iopub.status.idle": "2023-05-29T18:20:06.866424Z",
     "shell.execute_reply": "2023-05-29T18:20:06.864963Z"
    },
    "papermill": {
     "duration": 0.025243,
     "end_time": "2023-05-29T18:20:06.868992",
     "exception": false,
     "start_time": "2023-05-29T18:20:06.843749",
     "status": "completed"
    },
    "tags": []
   },
   "outputs": [
    {
     "name": "stdout",
     "output_type": "stream",
     "text": [
      "Accuracy   : 0.8625\n",
      "Precision : 0.9047619047619048\n",
      "Recall    : 0.6785714285714286\n",
      "F1-score  : 0.7755102040816326\n"
     ]
    }
   ],
   "source": [
    "# Finding precision and recall\n",
    "accuracy = accuracy_score(y_test, y_pred)\n",
    "print(\"Accuracy   :\", accuracy)\n",
    "precision = precision_score(y_test, y_pred)\n",
    "print(\"Precision :\", precision)\n",
    "recall = recall_score(y_test, y_pred)\n",
    "print(\"Recall    :\", recall)\n",
    "F1_score = f1_score(y_test, y_pred)\n",
    "print(\"F1-score  :\", F1_score)"
   ]
  }
 ],
 "metadata": {
  "kernelspec": {
   "display_name": "Python 3",
   "language": "python",
   "name": "python3"
  },
  "language_info": {
   "codemirror_mode": {
    "name": "ipython",
    "version": 3
   },
   "file_extension": ".py",
   "mimetype": "text/x-python",
   "name": "python",
   "nbconvert_exporter": "python",
   "pygments_lexer": "ipython3",
   "version": "3.10.10"
  },
  "papermill": {
   "default_parameters": {},
   "duration": 18.710883,
   "end_time": "2023-05-29T18:20:10.383723",
   "environment_variables": {},
   "exception": null,
   "input_path": "__notebook__.ipynb",
   "output_path": "__notebook__.ipynb",
   "parameters": {},
   "start_time": "2023-05-29T18:19:51.672840",
   "version": "2.4.0"
  }
 },
 "nbformat": 4,
 "nbformat_minor": 5
}
